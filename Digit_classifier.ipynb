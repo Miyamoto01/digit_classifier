{
 "cells": [
  {
   "cell_type": "code",
   "execution_count": 268,
   "id": "1135fb8b",
   "metadata": {},
   "outputs": [],
   "source": [
    "data_file = open(\"C:/Users/shahr/Documents/mnist_dataset/mnist_train.csv\" , 'r')\n",
    "data_list = data_file .readlines()\n",
    "data_file.close()"
   ]
  },
  {
   "cell_type": "code",
   "execution_count": 269,
   "id": "6cda5713",
   "metadata": {},
   "outputs": [
    {
     "data": {
      "text/plain": [
       "60000"
      ]
     },
     "execution_count": 269,
     "metadata": {},
     "output_type": "execute_result"
    }
   ],
   "source": [
    "len(data_list)"
   ]
  },
  {
   "cell_type": "code",
   "execution_count": 270,
   "id": "85067d88",
   "metadata": {},
   "outputs": [
    {
     "data": {
      "text/plain": [
       "'5,0,0,0,0,0,0,0,0,0,0,0,0,0,0,0,0,0,0,0,0,0,0,0,0,0,0,0,0,0,0,0,0,0,0,0,0,0,0,0,0,0,0,0,0,0,0,0,0,0,0,0,0,0,0,0,0,0,0,0,0,0,0,0,0,0,0,0,0,0,0,0,0,0,0,0,0,0,0,0,0,0,0,0,0,0,0,0,0,0,0,0,0,0,0,0,0,0,0,0,0,0,0,0,0,0,0,0,0,0,0,0,0,0,0,0,0,0,0,0,0,0,0,0,0,0,0,0,0,0,0,0,0,0,0,0,0,0,0,0,0,0,0,0,0,0,0,0,0,0,0,0,0,3,18,18,18,126,136,175,26,166,255,247,127,0,0,0,0,0,0,0,0,0,0,0,0,30,36,94,154,170,253,253,253,253,253,225,172,253,242,195,64,0,0,0,0,0,0,0,0,0,0,0,49,238,253,253,253,253,253,253,253,253,251,93,82,82,56,39,0,0,0,0,0,0,0,0,0,0,0,0,18,219,253,253,253,253,253,198,182,247,241,0,0,0,0,0,0,0,0,0,0,0,0,0,0,0,0,0,0,80,156,107,253,253,205,11,0,43,154,0,0,0,0,0,0,0,0,0,0,0,0,0,0,0,0,0,0,0,14,1,154,253,90,0,0,0,0,0,0,0,0,0,0,0,0,0,0,0,0,0,0,0,0,0,0,0,0,0,139,253,190,2,0,0,0,0,0,0,0,0,0,0,0,0,0,0,0,0,0,0,0,0,0,0,0,0,11,190,253,70,0,0,0,0,0,0,0,0,0,0,0,0,0,0,0,0,0,0,0,0,0,0,0,0,0,35,241,225,160,108,1,0,0,0,0,0,0,0,0,0,0,0,0,0,0,0,0,0,0,0,0,0,0,0,81,240,253,253,119,25,0,0,0,0,0,0,0,0,0,0,0,0,0,0,0,0,0,0,0,0,0,0,0,45,186,253,253,150,27,0,0,0,0,0,0,0,0,0,0,0,0,0,0,0,0,0,0,0,0,0,0,0,16,93,252,253,187,0,0,0,0,0,0,0,0,0,0,0,0,0,0,0,0,0,0,0,0,0,0,0,0,0,249,253,249,64,0,0,0,0,0,0,0,0,0,0,0,0,0,0,0,0,0,0,0,0,0,46,130,183,253,253,207,2,0,0,0,0,0,0,0,0,0,0,0,0,0,0,0,0,0,0,0,39,148,229,253,253,253,250,182,0,0,0,0,0,0,0,0,0,0,0,0,0,0,0,0,0,0,24,114,221,253,253,253,253,201,78,0,0,0,0,0,0,0,0,0,0,0,0,0,0,0,0,0,23,66,213,253,253,253,253,198,81,2,0,0,0,0,0,0,0,0,0,0,0,0,0,0,0,0,18,171,219,253,253,253,253,195,80,9,0,0,0,0,0,0,0,0,0,0,0,0,0,0,0,0,55,172,226,253,253,253,253,244,133,11,0,0,0,0,0,0,0,0,0,0,0,0,0,0,0,0,0,0,136,253,253,253,212,135,132,16,0,0,0,0,0,0,0,0,0,0,0,0,0,0,0,0,0,0,0,0,0,0,0,0,0,0,0,0,0,0,0,0,0,0,0,0,0,0,0,0,0,0,0,0,0,0,0,0,0,0,0,0,0,0,0,0,0,0,0,0,0,0,0,0,0,0,0,0,0,0,0,0,0,0,0,0,0,0,0,0,0,0,0,0,0,0,0,0,0,0,0,0,0,0,0,0,0,0,0,0\\n'"
      ]
     },
     "execution_count": 270,
     "metadata": {},
     "output_type": "execute_result"
    }
   ],
   "source": [
    "data_list[0]"
   ]
  },
  {
   "cell_type": "code",
   "execution_count": 387,
   "id": "dc1b0fd9",
   "metadata": {},
   "outputs": [],
   "source": [
    "import numpy\n",
    "import matplotlib\n",
    "%matplotlib inline"
   ]
  },
  {
   "cell_type": "code",
   "execution_count": 388,
   "id": "9d71f60a",
   "metadata": {},
   "outputs": [
    {
     "data": {
      "text/plain": [
       "<matplotlib.image.AxesImage at 0x224903be520>"
      ]
     },
     "execution_count": 388,
     "metadata": {},
     "output_type": "execute_result"
    },
    {
     "data": {
      "image/png": "[encoded data removed]",
      "text/plain": [
       "<Figure size 432x288 with 1 Axes>"
      ]
     },
     "metadata": {
      "needs_background": "light"
     },
     "output_type": "display_data"
    }
   ],
   "source": [
    "all_values = data_list[63].split(',')\n",
    "image_array = numpy.asfarray(all_values[1:]).reshape((28,28))\n",
    "matplotlib.pyplot.imshow(image_array, cmap='Greys',interpolation='None')"
   ]
  },
  {
   "cell_type": "code",
   "execution_count": 389,
   "id": "2f31a716",
   "metadata": {},
   "outputs": [],
   "source": [
    "scaled_input = (numpy.asfarray(all_values[1:]) / 255 * 0.99) + 0.01\n",
    "# print(scaled_input)"
   ]
  },
  {
   "cell_type": "code",
   "execution_count": 390,
   "id": "2f5f07cb",
   "metadata": {},
   "outputs": [],
   "source": [
    "import numpy\n",
    "import scipy.special\n",
    "import matplotlib\n",
    "%matplotlib inline\n",
    "\n",
    "class neuralNetwork:\n",
    "    \n",
    "    def __init__(self, inputnodes, hiddennodes, outputnodes, learningrate):\n",
    "        self.inodes = inputnodes\n",
    "        self.hnodes = hiddennodes\n",
    "        self.onodes = outputnodes\n",
    "        self.wih = numpy.random.normal(0.0, pow(self.hnodes, -0.5), (self.hnodes, self.inodes))\n",
    "        self.who = numpy.random.normal(0.0, pow(self.onodes, -0.5), (self.onodes, self.hnodes))\n",
    "        \n",
    "        self.lr = learningrate\n",
    "        \n",
    "        self.activation_function = lambda x: scipy.special.expit(x)\n",
    "    \n",
    "        pass\n",
    "    \n",
    "    def train(self, inputs_list, targets_list):\n",
    "        inputs = numpy.array(inputs_list, ndmin=2).T\n",
    "        target = numpy.array(targets_list, ndmin=2).T\n",
    "        hidden_inputs = numpy.dot(self.wih , inputs)\n",
    "        hidden_outputs = self.activation_function(hidden_inputs)\n",
    "        final_inputs = numpy.dot(self.who, hidden_outputs)\n",
    "        final_outputs = self.activation_function(final_inputs)\n",
    "        output_errors = target - final_outputs\n",
    "        hidden_errors = numpy.dot(self.who.T , output_errors)\n",
    "        self.who += self.lr * numpy.dot((output_errors * final_outputs * (1.0 - final_outputs)) , numpy.transpose(hidden_outputs))\n",
    "        self.wih += self.lr * numpy.dot((hidden_errors * hidden_outputs * (1.0 - hidden_outputs)) , numpy.transpose(inputs))\n",
    "        pass\n",
    "    \n",
    "    def query(self, inputs_list):\n",
    "        inputs = numpy.array(inputs_list, ndmin=2).T\n",
    "        hidden_inputs = numpy.dot(self.wih, inputs)\n",
    "        hidden_outputs = self.activation_function(hidden_inputs)\n",
    "        final_inputs = numpy.dot(self.who, hidden_outputs)\n",
    "        final_outputs = self.activation_function(final_inputs)\n",
    "        return final_outputs\n",
    "    \n",
    "    pass\n",
    "\n",
    "input_nodes = 784\n",
    "hidden_nodes = 100\n",
    "output_nodes = 10\n",
    "\n",
    "learning_rate = 0.2\n",
    "\n",
    "n = neuralNetwork(input_nodes, hidden_nodes, output_nodes, learning_rate)\n",
    "\n",
    "training_data_file = open(\"C:/Users/shahr/Documents/mnist_dataset/mnist_train.csv\" , 'r')\n",
    "training_data_list = training_data_file.readlines()\n",
    "training_data_file.close()\n",
    "\n",
    "epochs = 5\n",
    "for e in range(epochs):\n",
    "    for record in training_data_list:\n",
    "        all_values = record.split(',')\n",
    "        inputs = (numpy.asfarray(all_values[1:]) / 255 * 0.99) + 0.01\n",
    "        targets = numpy.zeros(output_nodes) + 0.01\n",
    "        targets [int(all_values[0])] = 0.99\n",
    "        n.train(inputs , targets)\n",
    "        pass\n",
    "    pass"
   ]
  },
  {
   "cell_type": "code",
   "execution_count": 386,
   "id": "1e6e4ff6",
   "metadata": {},
   "outputs": [
    {
     "name": "stdout",
     "output_type": "stream",
     "text": [
      "[0.01 0.01 0.01 0.01 0.01 0.01 0.01 0.01 0.99 0.01]\n",
      "[0.01       0.01       0.01       0.01       0.01       0.01\n",
      " 0.01       0.01       0.01       0.01       0.01       0.01\n",
      " 0.01       0.01       0.01       0.01       0.01       0.01\n",
      " 0.01       0.01       0.01       0.01       0.01       0.01\n",
      " 0.01       0.01       0.01       0.01       0.01       0.01\n",
      " 0.01       0.01       0.01       0.01       0.01       0.01\n",
      " 0.01       0.01       0.01       0.01       0.01       0.01\n",
      " 0.01       0.01       0.01       0.01       0.01       0.01\n",
      " 0.01       0.01       0.01       0.01       0.01       0.01\n",
      " 0.01       0.01       0.01       0.01       0.01       0.01\n",
      " 0.01       0.01       0.01       0.01       0.01       0.01\n",
      " 0.01       0.01       0.01       0.01       0.01       0.01\n",
      " 0.01       0.01       0.01       0.01       0.01       0.01\n",
      " 0.01       0.01       0.01       0.01       0.01       0.01\n",
      " 0.01       0.01       0.01       0.01       0.01       0.01\n",
      " 0.01       0.01       0.01       0.01       0.01       0.01\n",
      " 0.01       0.01       0.01       0.01       0.01       0.01\n",
      " 0.01       0.01       0.01       0.01       0.01       0.01\n",
      " 0.01       0.01       0.01       0.01       0.01       0.01\n",
      " 0.01       0.01       0.01       0.01       0.01       0.01\n",
      " 0.01       0.01       0.01       0.01       0.01       0.01\n",
      " 0.01       0.01       0.01       0.01       0.01       0.01\n",
      " 0.01       0.01       0.01       0.01       0.01       0.01\n",
      " 0.01       0.01       0.01       0.01       0.01       0.01\n",
      " 0.01       0.01       0.01       0.01       0.01       0.01\n",
      " 0.01       0.01       0.01       0.01       0.01       0.01\n",
      " 0.01       0.01       0.01       0.01       0.01       0.01\n",
      " 0.01       0.01       0.01       0.01       0.01       0.01\n",
      " 0.01       0.01       0.01       0.01       0.01       0.01\n",
      " 0.01       0.01       0.01       0.01       0.01       0.01\n",
      " 0.01       0.01       0.01       0.01       0.15752941 0.19635294\n",
      " 0.19635294 0.09541176 0.01       0.01       0.01       0.01\n",
      " 0.01       0.01       0.01       0.01       0.01       0.01\n",
      " 0.01       0.01       0.01       0.01       0.01       0.01\n",
      " 0.01       0.01       0.01       0.01       0.01       0.25070588\n",
      " 0.38658824 0.77870588 0.95341176 0.99611765 0.99611765 0.83305882\n",
      " 0.11482353 0.01       0.01       0.01       0.01       0.01\n",
      " 0.01       0.01       0.01       0.01       0.01       0.01\n",
      " 0.01       0.01       0.01       0.01       0.01       0.01\n",
      " 0.01       0.01       0.27011765 0.67776471 0.99611765 0.99611765\n",
      " 0.88352941 0.85635294 0.85635294 0.93011765 0.97282353 0.16529412\n",
      " 0.01       0.09152941 0.64670588 0.736      0.01       0.01\n",
      " 0.01       0.01       0.01       0.01       0.01       0.01\n",
      " 0.01       0.01       0.01       0.01       0.01       0.35552941\n",
      " 0.86023529 0.99611765 0.38658824 0.27011765 0.06435294 0.01\n",
      " 0.01       0.36717647 0.90682353 0.48364706 0.09929412 0.79811765\n",
      " 0.92623529 0.23905882 0.01       0.01       0.01       0.01\n",
      " 0.01       0.01       0.01       0.01       0.01       0.01\n",
      " 0.01       0.01       0.10705882 0.85247059 0.94952941 0.36717647\n",
      " 0.02552941 0.01       0.01       0.01       0.01       0.02552941\n",
      " 0.58070588 0.99223529 0.94176471 0.91070588 0.36717647 0.01\n",
      " 0.01       0.01       0.01       0.01       0.01       0.01\n",
      " 0.01       0.01       0.01       0.01       0.01       0.01\n",
      " 0.40211765 1.         0.36717647 0.01       0.01       0.01\n",
      " 0.01       0.01       0.01       0.41764706 0.99611765 0.99611765\n",
      " 0.69717647 0.05270588 0.01       0.01       0.01       0.01\n",
      " 0.01       0.01       0.01       0.01       0.01       0.01\n",
      " 0.01       0.01       0.01       0.01       0.65835294 0.95729412\n",
      " 0.16917647 0.01       0.01       0.01       0.03717647 0.30505882\n",
      " 0.78258824 0.934      0.93788235 0.37494118 0.04882353 0.01\n",
      " 0.01       0.01       0.01       0.01       0.01       0.01\n",
      " 0.01       0.01       0.01       0.01       0.01       0.01\n",
      " 0.01       0.01       0.75541176 0.47976471 0.01       0.01\n",
      " 0.01776471 0.25458824 0.70882353 0.99611765 0.91458824 0.49917647\n",
      " 0.01       0.01       0.01       0.01       0.01       0.01\n",
      " 0.01       0.01       0.01       0.01       0.01       0.01\n",
      " 0.01       0.01       0.01       0.01       0.01       0.01\n",
      " 0.74764706 0.77094118 0.06435294 0.01776471 0.38658824 0.99611765\n",
      " 0.98835294 0.57682353 0.21188235 0.01       0.01       0.01\n",
      " 0.01       0.01       0.01       0.01       0.01       0.01\n",
      " 0.01       0.01       0.01       0.01       0.01       0.01\n",
      " 0.01       0.01       0.01       0.01       0.51470588 0.88352941\n",
      " 0.28564706 0.70882353 0.91070588 0.71270588 0.24294118 0.01\n",
      " 0.01       0.01       0.01       0.01       0.01       0.01\n",
      " 0.01       0.01       0.01       0.01       0.01       0.01\n",
      " 0.01       0.01       0.01       0.01       0.01       0.01\n",
      " 0.01       0.01       0.51470588 0.99611765 0.99611765 0.90294118\n",
      " 0.18858824 0.01       0.01       0.01       0.01       0.01\n",
      " 0.01       0.01       0.01       0.01       0.01       0.01\n",
      " 0.01       0.01       0.01       0.01       0.01       0.01\n",
      " 0.01       0.01       0.01       0.01       0.03329412 0.30894118\n",
      " 0.95729412 0.99611765 0.63894118 0.02552941 0.01       0.01\n",
      " 0.01       0.01       0.01       0.01       0.01       0.01\n",
      " 0.01       0.01       0.01       0.01       0.01       0.01\n",
      " 0.01       0.01       0.01       0.01       0.01       0.01\n",
      " 0.01       0.01       0.43705882 0.99611765 0.85635294 0.99611765\n",
      " 0.46035294 0.01       0.01       0.01       0.01       0.01\n",
      " 0.01       0.01       0.01       0.01       0.01       0.01\n",
      " 0.01       0.01       0.01       0.01       0.01       0.01\n",
      " 0.01       0.01       0.01       0.01       0.01       0.51858824\n",
      " 0.99611765 0.60788235 0.11870588 0.83694118 0.34388235 0.01\n",
      " 0.01       0.01       0.01       0.01       0.01       0.01\n",
      " 0.01       0.01       0.01       0.01       0.01       0.01\n",
      " 0.01       0.01       0.01       0.01       0.01       0.01\n",
      " 0.01       0.01       0.26623529 0.82141176 0.604      0.08376471\n",
      " 0.08376471 0.91458824 0.24294118 0.01       0.01       0.01\n",
      " 0.01       0.01       0.01       0.01       0.01       0.01\n",
      " 0.01       0.01       0.01       0.01       0.01       0.01\n",
      " 0.01       0.01       0.01       0.01       0.01       0.01\n",
      " 0.56129412 0.99611765 0.65058824 0.01       0.06435294 0.84858824\n",
      " 0.65835294 0.01       0.01       0.01       0.01       0.01\n",
      " 0.01       0.01       0.01       0.01       0.01       0.01\n",
      " 0.01       0.01       0.01       0.01       0.01       0.01\n",
      " 0.01       0.01       0.01       0.01       0.35941176 0.99611765\n",
      " 0.68941176 0.01       0.07988235 0.89905882 0.36717647 0.01\n",
      " 0.01       0.01       0.01       0.01       0.01       0.01\n",
      " 0.01       0.01       0.01       0.01       0.01       0.01\n",
      " 0.01       0.01       0.01       0.01       0.01       0.01\n",
      " 0.01       0.01       0.11094118 0.89905882 0.97670588 0.69329412\n",
      " 0.87188235 0.95729412 0.18082353 0.01       0.01       0.01\n",
      " 0.01       0.01       0.01       0.01       0.01       0.01\n",
      " 0.01       0.01       0.01       0.01       0.01       0.01\n",
      " 0.01       0.01       0.01       0.01       0.01       0.01\n",
      " 0.01       0.29341176 0.75929412 0.77482353 0.53023529 0.01\n",
      " 0.01       0.01       0.01       0.01       0.01       0.01\n",
      " 0.01       0.01       0.01       0.01       0.01       0.01\n",
      " 0.01       0.01       0.01       0.01       0.01       0.01\n",
      " 0.01       0.01       0.01       0.01       0.01       0.01\n",
      " 0.01       0.01       0.01       0.01       0.01       0.01\n",
      " 0.01       0.01       0.01       0.01       0.01       0.01\n",
      " 0.01       0.01       0.01       0.01       0.01       0.01\n",
      " 0.01       0.01       0.01       0.01       0.01       0.01\n",
      " 0.01       0.01       0.01       0.01       0.01       0.01\n",
      " 0.01       0.01       0.01       0.01       0.01       0.01\n",
      " 0.01       0.01       0.01       0.01       0.01       0.01\n",
      " 0.01       0.01       0.01       0.01       0.01       0.01\n",
      " 0.01       0.01       0.01       0.01       0.01       0.01\n",
      " 0.01       0.01       0.01       0.01       0.01       0.01\n",
      " 0.01       0.01       0.01       0.01       0.01       0.01\n",
      " 0.01       0.01       0.01       0.01       0.01       0.01\n",
      " 0.01       0.01       0.01       0.01      ]\n"
     ]
    }
   ],
   "source": [
    "print(targets)\n",
    "print(inputs)"
   ]
  },
  {
   "cell_type": "code",
   "execution_count": 391,
   "id": "0319f55d",
   "metadata": {},
   "outputs": [],
   "source": [
    "test_data_file = open(\"C:/Users/shahr/Documents/mnist_dataset/mnist_test.csv\", 'r')\n",
    "test_data_list = test_data_file.readlines()\n",
    "test_data_file.close()"
   ]
  },
  {
   "cell_type": "code",
   "execution_count": 392,
   "id": "0f6957f5",
   "metadata": {
    "scrolled": true
   },
   "outputs": [],
   "source": [
    "scorecard = []\n",
    "for record in test_data_list:\n",
    "    all_values = record.split(',')\n",
    "    correct_label = int(all_values[0])\n",
    "#     print(correct_label, \"correct label\")\n",
    "    inputs = (numpy.asfarray(all_values[1:]) / 255 * 0.99) + 0.01\n",
    "    outputs = n.query(inputs)\n",
    "    label = numpy.argmax(outputs)\n",
    "#     print(label, \"network's answer\")\n",
    "    if(label == correct_label):\n",
    "        scorecard.append(1)\n",
    "    else:\n",
    "        scorecard.append(0)\n",
    "        pass\n",
    "    pass"
   ]
  },
  {
   "cell_type": "code",
   "execution_count": 393,
   "id": "0153a0a7",
   "metadata": {
    "scrolled": true
   },
   "outputs": [
    {
     "name": "stdout",
     "output_type": "stream",
     "text": [
      "performance =  0.961\n"
     ]
    }
   ],
   "source": [
    "scorecard_array = numpy.asarray(scorecard)\n",
    "print (\"performance = \", scorecard_array.sum() /\n",
    "scorecard_array.size)"
   ]
  },
  {
   "cell_type": "code",
   "execution_count": 394,
   "id": "31fe1a9c",
   "metadata": {},
   "outputs": [],
   "source": [
    "import scipy.misc\n",
    "import matplotlib.pyplot as plt"
   ]
  },
  {
   "cell_type": "code",
   "execution_count": 395,
   "id": "28771a6b",
   "metadata": {},
   "outputs": [],
   "source": [
    "import cv2"
   ]
  },
  {
   "cell_type": "code",
   "execution_count": 653,
   "id": "0b691203",
   "metadata": {},
   "outputs": [],
   "source": [
    "ig = cv2.imread(\"cur_img.jpeg\")\n",
    "ig = cv2.cvtColor(ig, cv2.COLOR_BGR2GRAY)"
   ]
  },
  {
   "cell_type": "code",
   "execution_count": 654,
   "id": "7f0a14b3",
   "metadata": {},
   "outputs": [
    {
     "data": {
      "text/plain": [
       "<matplotlib.image.AxesImage at 0x22497bfaf40>"
      ]
     },
     "execution_count": 654,
     "metadata": {},
     "output_type": "execute_result"
    },
    {
     "data": {
      "image/png": "[encoded data removed]",
      "text/plain": [
       "<Figure size 432x288 with 1 Axes>"
      ]
     },
     "metadata": {
      "needs_background": "light"
     },
     "output_type": "display_data"
    }
   ],
   "source": [
    "plt.imshow(ig)\n",
    "matplotlib.pyplot.imshow(ig, cmap='Greys',interpolation='None')\n",
    "# print(numpy.max(ig))\n",
    "# print(numpy.min(ig))\n",
    "# ig[0][0]"
   ]
  },
  {
   "cell_type": "code",
   "execution_count": 655,
   "id": "eac12baa",
   "metadata": {},
   "outputs": [
    {
     "data": {
      "text/plain": [
       "(660, 656)"
      ]
     },
     "execution_count": 655,
     "metadata": {},
     "output_type": "execute_result"
    }
   ],
   "source": [
    "ig.shape"
   ]
  },
  {
   "cell_type": "code",
   "execution_count": 656,
   "id": "645c1c66",
   "metadata": {},
   "outputs": [],
   "source": [
    "# re_ig0 = cv2.resize(ig[:, :, 0], (28, 28))\n",
    "# re_ig1 = cv2.resize(ig[:, :, 1], (28, 28))\n",
    "# re_ig2 = cv2.resize(ig[:, :, 2], (28, 28))\n",
    "# re_ig = cv2.resize()\n",
    "re_ig = ig"
   ]
  },
  {
   "cell_type": "code",
   "execution_count": 657,
   "id": "7a82ecd0",
   "metadata": {},
   "outputs": [
    {
     "data": {
      "text/plain": [
       "<matplotlib.image.AxesImage at 0x22497c9bfd0>"
      ]
     },
     "execution_count": 657,
     "metadata": {},
     "output_type": "execute_result"
    },
    {
     "data": {
      "image/png": "[encoded data removed]",
      "text/plain": [
       "<Figure size 432x288 with 1 Axes>"
      ]
     },
     "metadata": {
      "needs_background": "light"
     },
     "output_type": "display_data"
    }
   ],
   "source": [
    "# plt.imshow(re_ig)\n",
    "re_ig = (ig > 90) * 255\n",
    "matplotlib.pyplot.imshow(re_ig, cmap='Greys',interpolation='None')"
   ]
  },
  {
   "cell_type": "code",
   "execution_count": 658,
   "id": "7c96c750",
   "metadata": {},
   "outputs": [
    {
     "ename": "error",
     "evalue": "OpenCV(4.5.4) D:\\a\\opencv-python\\opencv-python\\opencv\\modules\\imgproc\\src\\resize.cpp:3929: error: (-215:Assertion failed) func != 0 in function 'cv::hal::resize'\n",
     "output_type": "error",
     "traceback": [
      "\u001b[1;31m---------------------------------------------------------------------------\u001b[0m",
      "\u001b[1;31merror\u001b[0m                                     Traceback (most recent call last)",
      "\u001b[1;32m~\\AppData\\Local\\Temp/ipykernel_10700/1399046213.py\u001b[0m in \u001b[0;36m<module>\u001b[1;34m\u001b[0m\n\u001b[0;32m      1\u001b[0m \u001b[1;31m# plt.imshow(re_ig)\u001b[0m\u001b[1;33m\u001b[0m\u001b[1;33m\u001b[0m\u001b[1;33m\u001b[0m\u001b[0m\n\u001b[0;32m      2\u001b[0m \u001b[0mre_ig\u001b[0m \u001b[1;33m=\u001b[0m \u001b[1;36m255\u001b[0m \u001b[1;33m-\u001b[0m \u001b[0mre_ig\u001b[0m\u001b[1;33m\u001b[0m\u001b[1;33m\u001b[0m\u001b[0m\n\u001b[1;32m----> 3\u001b[1;33m \u001b[0mre_ig\u001b[0m \u001b[1;33m=\u001b[0m \u001b[0mcv2\u001b[0m\u001b[1;33m.\u001b[0m\u001b[0mresize\u001b[0m\u001b[1;33m(\u001b[0m\u001b[0mre_ig\u001b[0m\u001b[1;33m,\u001b[0m \u001b[1;33m(\u001b[0m\u001b[1;36m28\u001b[0m\u001b[1;33m,\u001b[0m \u001b[1;36m28\u001b[0m\u001b[1;33m)\u001b[0m\u001b[1;33m)\u001b[0m\u001b[1;33m\u001b[0m\u001b[1;33m\u001b[0m\u001b[0m\n\u001b[0m\u001b[0;32m      4\u001b[0m \u001b[0mmatplotlib\u001b[0m\u001b[1;33m.\u001b[0m\u001b[0mpyplot\u001b[0m\u001b[1;33m.\u001b[0m\u001b[0mimshow\u001b[0m\u001b[1;33m(\u001b[0m\u001b[0mre_ig\u001b[0m\u001b[1;33m,\u001b[0m \u001b[0mcmap\u001b[0m\u001b[1;33m=\u001b[0m\u001b[1;34m'Greys'\u001b[0m\u001b[1;33m,\u001b[0m\u001b[0minterpolation\u001b[0m\u001b[1;33m=\u001b[0m\u001b[1;34m'None'\u001b[0m\u001b[1;33m)\u001b[0m\u001b[1;33m\u001b[0m\u001b[1;33m\u001b[0m\u001b[0m\n",
      "\u001b[1;31merror\u001b[0m: OpenCV(4.5.4) D:\\a\\opencv-python\\opencv-python\\opencv\\modules\\imgproc\\src\\resize.cpp:3929: error: (-215:Assertion failed) func != 0 in function 'cv::hal::resize'\n"
     ]
    }
   ],
   "source": [
    "# plt.imshow(re_ig)\n",
    "re_ig = 255 - re_ig\n",
    "re_ig = cv2.resize(re_ig, (28, 28))\n",
    "matplotlib.pyplot.imshow(re_ig, cmap='Greys',interpolation='None')"
   ]
  },
  {
   "cell_type": "code",
   "execution_count": 659,
   "id": "4d08d00d",
   "metadata": {},
   "outputs": [
    {
     "data": {
      "text/plain": [
       "<matplotlib.image.AxesImage at 0x22498263b20>"
      ]
     },
     "execution_count": 659,
     "metadata": {},
     "output_type": "execute_result"
    },
    {
     "data": {
      "image/png": "[encoded data removed]",
      "text/plain": [
       "<Figure size 432x288 with 1 Axes>"
      ]
     },
     "metadata": {
      "needs_background": "light"
     },
     "output_type": "display_data"
    }
   ],
   "source": [
    "# for i in range(0, 28):\n",
    "#     for j in range(0, 28):\n",
    "#         if(re_ig[i][j] >= 100):\n",
    "#             re_ig[i][j] = 255\n",
    "#         else:\n",
    "#             re_ig[i][j] = 0\n",
    "plt.imshow(re_ig)"
   ]
  },
  {
   "cell_type": "code",
   "execution_count": 651,
   "id": "8daf6be0",
   "metadata": {},
   "outputs": [
    {
     "ename": "ValueError",
     "evalue": "cannot reshape array of size 432960 into shape (1,784)",
     "output_type": "error",
     "traceback": [
      "\u001b[1;31m---------------------------------------------------------------------------\u001b[0m",
      "\u001b[1;31mValueError\u001b[0m                                Traceback (most recent call last)",
      "\u001b[1;32m~\\AppData\\Local\\Temp/ipykernel_10700/3128801491.py\u001b[0m in \u001b[0;36m<module>\u001b[1;34m\u001b[0m\n\u001b[1;32m----> 1\u001b[1;33m \u001b[0minput_arr\u001b[0m \u001b[1;33m=\u001b[0m \u001b[0mre_ig\u001b[0m\u001b[1;33m.\u001b[0m\u001b[0mreshape\u001b[0m\u001b[1;33m(\u001b[0m\u001b[1;33m(\u001b[0m\u001b[1;36m1\u001b[0m\u001b[1;33m,\u001b[0m \u001b[1;36m784\u001b[0m\u001b[1;33m)\u001b[0m\u001b[1;33m)\u001b[0m\u001b[1;33m\u001b[0m\u001b[1;33m\u001b[0m\u001b[0m\n\u001b[0m\u001b[0;32m      2\u001b[0m \u001b[1;31m# print(input_arr)\u001b[0m\u001b[1;33m\u001b[0m\u001b[1;33m\u001b[0m\u001b[1;33m\u001b[0m\u001b[0m\n\u001b[0;32m      3\u001b[0m \u001b[0minput_arr\u001b[0m\u001b[1;33m.\u001b[0m\u001b[0mshape\u001b[0m\u001b[1;33m\u001b[0m\u001b[1;33m\u001b[0m\u001b[0m\n",
      "\u001b[1;31mValueError\u001b[0m: cannot reshape array of size 432960 into shape (1,784)"
     ]
    }
   ],
   "source": [
    "input_arr = re_ig.reshape((1, 784))\n",
    "# print(input_arr)\n",
    "input_arr.shape"
   ]
  },
  {
   "cell_type": "code",
   "execution_count": 610,
   "id": "d8e2a149",
   "metadata": {},
   "outputs": [],
   "source": [
    "inputs = (numpy.asfarray(input_arr) / 255 * 0.99) + 0.01\n",
    "outputs = n.query(inputs)\n",
    "predicted_label = numpy.argmax(outputs)"
   ]
  },
  {
   "cell_type": "code",
   "execution_count": 611,
   "id": "e361f2dc",
   "metadata": {},
   "outputs": [
    {
     "data": {
      "text/plain": [
       "array([[1.05535848e-04],\n",
       "       [2.19752221e-02],\n",
       "       [9.14218580e-02],\n",
       "       [2.73999059e-04],\n",
       "       [8.38427850e-02],\n",
       "       [4.76245674e-05],\n",
       "       [8.58001841e-04],\n",
       "       [8.82051848e-02],\n",
       "       [8.89764405e-04],\n",
       "       [6.03511028e-03]])"
      ]
     },
     "execution_count": 611,
     "metadata": {},
     "output_type": "execute_result"
    }
   ],
   "source": [
    "outputs"
   ]
  },
  {
   "cell_type": "code",
   "execution_count": 612,
   "id": "c52bc751",
   "metadata": {},
   "outputs": [
    {
     "data": {
      "text/plain": [
       "2"
      ]
     },
     "execution_count": 612,
     "metadata": {},
     "output_type": "execute_result"
    }
   ],
   "source": [
    "predicted_label"
   ]
  },
  {
   "cell_type": "code",
   "execution_count": 583,
   "id": "85e9a450",
   "metadata": {},
   "outputs": [
    {
     "data": {
      "text/plain": [
       "0"
      ]
     },
     "execution_count": 583,
     "metadata": {},
     "output_type": "execute_result"
    }
   ],
   "source": [
    "input_arr[0][0]"
   ]
  },
  {
   "cell_type": "code",
   "execution_count": 522,
   "id": "139d7ff6",
   "metadata": {},
   "outputs": [
    {
     "name": "stdout",
     "output_type": "stream",
     "text": [
      "[[110 107 107 107 107 106 108 110 105 106 105 105 101 103 106 105 106 107\n",
      "  107 105 103 103 103 102 103 103 102 100 113 106 107 107 106 107 107 108\n",
      "  107 106 107 107 108 105 105 106 104 104 104 104 103 102 100 101 100  98\n",
      "   99  99 109 109 108 106 107 108 107 107 108 107 109 107 110 108 106 106\n",
      "  104 107 105 101 103 103 102 101 102 100  97  99 109 109 108 109 109 108\n",
      "  107 107 108 108 109 109 109 110 108 109 105 106 106 104 102 102 100 101\n",
      "  101 100  99  98 107 107 111 110 108 111 108 110 109 109 110 110 113 113\n",
      "  110 112 111 113 114 104 103 101 100 101 100  99  98  97 108 107 106 107\n",
      "  107 113 111 120 205 225 227 228 227 227 223 226 230 228 228 108 103 103\n",
      "  102  99 100  99  98  98 108 107 106 107 107 226 227 227 225 226 226 227\n",
      "  225 227 226 224 227 229 226 109 104 104 103 101 101 100  98  99 108 108\n",
      "  108 106 106 223 226 144 157 110 106 107 105 104 107 228 228 227 109 106\n",
      "  106 107 103 104 100 100  98  99 109 108 107 106 106 107 105 104 104 105\n",
      "  107 106 105 104 106 228 228 210 108 105 104 106 106 103 103  99 101  99\n",
      "  113 110 109 106 107 106 106 105 105 105 107 107 106 106 107 224 226 119\n",
      "  105 105 104 103 105 103 102 101 100  98 107 112 112 113 110 107 107 105\n",
      "  107 106 107 106 105 106 124 230 229 107 107 104 106 104 103 103 102 101\n",
      "  100 100 112 109 109 112 112 113 110 108 107 108 106 107 106 105 208 233\n",
      "  225 118 106 105 105 103 104 104 102 100 100  99 109 111 109 111 111 115\n",
      "  112 111 109 107 108 106 107 105 228 230 227 118 107 105 106 104 103 103\n",
      "  102 102 101 100 110 111 113 113 111 112 110 113 115 110 108 107 107 105\n",
      "  223 228 212 106 107 107 108 105 102 103 102 103 101 100 111 112 113 112\n",
      "  111 113 112 111 115 113 115 108 106 111 229 227 133 106 106 106 106 104\n",
      "  104 103 103 102 101 100 111 112 111 111 110 115 113 117 111 108 110 112\n",
      "  111 146 228 227 108 106 106 106 105 105 104 102 102 102 102 101 112 112\n",
      "  111 112 111 110 112 111 112 109 107 108 112 180 229 228 108 106 106 105\n",
      "  106 104 104 104 103 103 102 102 113 113 113 110 112 111 110 111 111 111\n",
      "  110 107 106 222 228 191 111 108 106 106 106 108 105 104 103 103 103 103\n",
      "  113 114 113 112 112 111 110 110 110 109 109 110 107 225 229 123 110 113\n",
      "  111 107 107 107 106 105 104 104 103 102 113 115 113 114 112 113 112 112\n",
      "  109 109 107 108 113 223 230 108 108 109 111 111 111 107 105 104 104 104\n",
      "  103 103 115 115 114 114 113 113 112 111 111 109 108 107 131 225 229 113\n",
      "  110 108 108 108 109 110 108 106 104 104 103 103 117 116 115 115 114 113\n",
      "  112 112 111 112 109 108 130 229 230 113 111 109 108 107 107 108 109 110\n",
      "  108 107 104 105 117 119 116 114 114 114 112 112 112 110 110 109 120 228\n",
      "  228 118 108 110 108 109 108 106 105 105 109 106 106 104 118 119 120 119\n",
      "  115 116 113 113 112 112 110 110 108 157 226 110 108 108 107 110 109 108\n",
      "  110 106 105 104 104 105 118 122 120 118 117 115 115 116 113 112 111 109\n",
      "  110 109 109 107 106 107 107 107 110 107 109 106 106 105 105 105 122 119\n",
      "  118 118 119 116 116 116 113 113 112 110 110 110 109 108 108 109 108 108\n",
      "  108 108 108 108 106 106 105 105 123 118 119 118 117 117 117 116 115 112\n",
      "  112 112 111 111 111 110 110 109 109 109 108 110 108 107 106 107 105 105\n",
      "  120 118 119 117 116 117 117 116 115 114 113 114 112 111 111 111 111 111\n",
      "  110 109 109 108 108 108 107 107 106 106]]\n"
     ]
    }
   ],
   "source": [
    "print(input_arr)"
   ]
  },
  {
   "cell_type": "code",
   "execution_count": null,
   "id": "c1642ef4",
   "metadata": {},
   "outputs": [],
   "source": []
  }
 ],
 "metadata": {
  "kernelspec": {
   "display_name": "Python 3 (ipykernel)",
   "language": "python",
   "name": "python3"
  },
  "language_info": {
   "codemirror_mode": {
    "name": "ipython",
    "version": 3
   },
   "file_extension": ".py",
   "mimetype": "text/x-python",
   "name": "python",
   "nbconvert_exporter": "python",
   "pygments_lexer": "ipython3",
   "version": "3.8.0"
  }
 },
 "nbformat": 4,
 "nbformat_minor": 5
}
